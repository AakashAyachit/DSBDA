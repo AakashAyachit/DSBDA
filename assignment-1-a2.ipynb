{
 "cells": [
  {
   "cell_type": "code",
   "execution_count": null,
   "metadata": {
    "_cell_guid": "b1076dfc-b9ad-4769-8c92-a6c4dae69d19",
    "_uuid": "8f2839f25d086af736a60e9eeb907d3b93b6e0e5",
    "execution": {
     "iopub.execute_input": "2023-04-17T14:26:45.815382Z",
     "iopub.status.busy": "2023-04-17T14:26:45.814681Z",
     "iopub.status.idle": "2023-04-17T14:26:45.854801Z",
     "shell.execute_reply": "2023-04-17T14:26:45.853362Z",
     "shell.execute_reply.started": "2023-04-17T14:26:45.815340Z"
    }
   },
   "outputs": [],
   "source": [
    "import numpy as np\n",
    "import pandas as pd "
   ]
  },
  {
   "cell_type": "code",
   "execution_count": null,
   "metadata": {
    "execution": {
     "iopub.execute_input": "2023-04-17T14:31:48.181508Z",
     "iopub.status.busy": "2023-04-17T14:31:48.180540Z",
     "iopub.status.idle": "2023-04-17T14:31:48.191980Z",
     "shell.execute_reply": "2023-04-17T14:31:48.191069Z",
     "shell.execute_reply.started": "2023-04-17T14:31:48.181454Z"
    }
   },
   "outputs": [],
   "source": [
    "df = pd.read_csv(\"C:/Users/aakas/OneDrive/Desktop/dsbda pracs/weather.csv\")"
   ]
  },
  {
   "cell_type": "code",
   "execution_count": null,
   "metadata": {
    "scrolled": true
   },
   "outputs": [],
   "source": [
    "print(df)"
   ]
  },
  {
   "cell_type": "code",
   "execution_count": null,
   "metadata": {
    "execution": {
     "iopub.execute_input": "2023-04-17T14:33:15.181194Z",
     "iopub.status.busy": "2023-04-17T14:33:15.180780Z",
     "iopub.status.idle": "2023-04-17T14:33:15.221908Z",
     "shell.execute_reply": "2023-04-17T14:33:15.220737Z",
     "shell.execute_reply.started": "2023-04-17T14:33:15.181157Z"
    },
    "scrolled": false
   },
   "outputs": [],
   "source": [
    "df.head()"
   ]
  },
  {
   "cell_type": "code",
   "execution_count": null,
   "metadata": {
    "execution": {
     "iopub.execute_input": "2023-04-17T14:35:41.171941Z",
     "iopub.status.busy": "2023-04-17T14:35:41.171460Z",
     "iopub.status.idle": "2023-04-17T14:35:41.208133Z",
     "shell.execute_reply": "2023-04-17T14:35:41.206767Z",
     "shell.execute_reply.started": "2023-04-17T14:35:41.171897Z"
    }
   },
   "outputs": [],
   "source": [
    "df.tail()"
   ]
  },
  {
   "cell_type": "code",
   "execution_count": null,
   "metadata": {
    "execution": {
     "iopub.execute_input": "2023-04-17T14:37:14.104596Z",
     "iopub.status.busy": "2023-04-17T14:37:14.104115Z",
     "iopub.status.idle": "2023-04-17T14:37:14.189319Z",
     "shell.execute_reply": "2023-04-17T14:37:14.187805Z",
     "shell.execute_reply.started": "2023-04-17T14:37:14.104549Z"
    }
   },
   "outputs": [],
   "source": [
    "df.describe()"
   ]
  },
  {
   "cell_type": "code",
   "execution_count": null,
   "metadata": {
    "execution": {
     "iopub.execute_input": "2023-04-17T14:39:39.000058Z",
     "iopub.status.busy": "2023-04-17T14:39:38.998673Z",
     "iopub.status.idle": "2023-04-17T14:39:39.039218Z",
     "shell.execute_reply": "2023-04-17T14:39:39.037795Z",
     "shell.execute_reply.started": "2023-04-17T14:39:39.000005Z"
    }
   },
   "outputs": [],
   "source": [
    "df.replace(\" \",np.nan,inplace=True)\n",
    "df.head(9)"
   ]
  },
  {
   "cell_type": "code",
   "execution_count": null,
   "metadata": {
    "execution": {
     "iopub.execute_input": "2023-04-17T14:43:24.766932Z",
     "iopub.status.busy": "2023-04-17T14:43:24.766457Z",
     "iopub.status.idle": "2023-04-17T14:43:24.772875Z",
     "shell.execute_reply": "2023-04-17T14:43:24.771797Z",
     "shell.execute_reply.started": "2023-04-17T14:43:24.766889Z"
    }
   },
   "outputs": [],
   "source": [
    "missingdata=df.isnull() #new df to find missing values in original df"
   ]
  },
  {
   "cell_type": "code",
   "execution_count": null,
   "metadata": {
    "execution": {
     "iopub.execute_input": "2023-04-17T14:43:48.745719Z",
     "iopub.status.busy": "2023-04-17T14:43:48.745149Z",
     "iopub.status.idle": "2023-04-17T14:43:48.756846Z",
     "shell.execute_reply": "2023-04-17T14:43:48.755615Z",
     "shell.execute_reply.started": "2023-04-17T14:43:48.745673Z"
    }
   },
   "outputs": [],
   "source": [
    "df.isnull().sum() # display the number of missing values in each column"
   ]
  },
  {
   "cell_type": "code",
   "execution_count": null,
   "metadata": {
    "execution": {
     "iopub.execute_input": "2023-04-17T14:46:46.482554Z",
     "iopub.status.busy": "2023-04-17T14:46:46.481311Z",
     "iopub.status.idle": "2023-04-17T14:46:46.528284Z",
     "shell.execute_reply": "2023-04-17T14:46:46.527060Z",
     "shell.execute_reply.started": "2023-04-17T14:46:46.482505Z"
    }
   },
   "outputs": [],
   "source": [
    "df.dropna() #drop rows or columns with missing values, creates new df, doesnt modify existing df"
   ]
  },
  {
   "cell_type": "code",
   "execution_count": null,
   "metadata": {
    "execution": {
     "iopub.execute_input": "2023-04-17T14:49:31.124859Z",
     "iopub.status.busy": "2023-04-17T14:49:31.123686Z",
     "iopub.status.idle": "2023-04-17T14:49:31.168770Z",
     "shell.execute_reply": "2023-04-17T14:49:31.167368Z",
     "shell.execute_reply.started": "2023-04-17T14:49:31.124810Z"
    }
   },
   "outputs": [],
   "source": [
    "df"
   ]
  },
  {
   "cell_type": "code",
   "execution_count": null,
   "metadata": {
    "execution": {
     "iopub.execute_input": "2023-04-17T14:50:52.928973Z",
     "iopub.status.busy": "2023-04-17T14:50:52.928550Z",
     "iopub.status.idle": "2023-04-17T14:50:52.964751Z",
     "shell.execute_reply": "2023-04-17T14:50:52.963509Z",
     "shell.execute_reply.started": "2023-04-17T14:50:52.928925Z"
    }
   },
   "outputs": [],
   "source": [
    "df.dropna(axis=1) #axis=1-> drop cols,axis=0->drop rows"
   ]
  },
  {
   "cell_type": "code",
   "execution_count": null,
   "metadata": {
    "execution": {
     "iopub.execute_input": "2023-04-17T14:53:47.225822Z",
     "iopub.status.busy": "2023-04-17T14:53:47.225366Z",
     "iopub.status.idle": "2023-04-17T14:53:47.274995Z",
     "shell.execute_reply": "2023-04-17T14:53:47.273841Z",
     "shell.execute_reply.started": "2023-04-17T14:53:47.225784Z"
    }
   },
   "outputs": [],
   "source": [
    "df.dropna(how='all')"
   ]
  },
  {
   "cell_type": "code",
   "execution_count": null,
   "metadata": {
    "execution": {
     "iopub.execute_input": "2023-04-17T14:57:07.470982Z",
     "iopub.status.busy": "2023-04-17T14:57:07.470593Z",
     "iopub.status.idle": "2023-04-17T14:57:07.521834Z",
     "shell.execute_reply": "2023-04-17T14:57:07.520708Z",
     "shell.execute_reply.started": "2023-04-17T14:57:07.470949Z"
    }
   },
   "outputs": [],
   "source": [
    "df.dropna(subset=['Sunshine'])"
   ]
  },
  {
   "cell_type": "code",
   "execution_count": null,
   "metadata": {
    "execution": {
     "iopub.execute_input": "2023-04-17T14:58:12.366483Z",
     "iopub.status.busy": "2023-04-17T14:58:12.366066Z",
     "iopub.status.idle": "2023-04-17T14:58:12.372513Z",
     "shell.execute_reply": "2023-04-17T14:58:12.371153Z",
     "shell.execute_reply.started": "2023-04-17T14:58:12.366431Z"
    }
   },
   "outputs": [],
   "source": [
    "mean_value=df['MinTemp'].mean()"
   ]
  },
  {
   "cell_type": "code",
   "execution_count": null,
   "metadata": {
    "execution": {
     "iopub.execute_input": "2023-04-17T14:58:29.578568Z",
     "iopub.status.busy": "2023-04-17T14:58:29.578084Z",
     "iopub.status.idle": "2023-04-17T14:58:29.586276Z",
     "shell.execute_reply": "2023-04-17T14:58:29.585036Z",
     "shell.execute_reply.started": "2023-04-17T14:58:29.578512Z"
    }
   },
   "outputs": [],
   "source": [
    "mean_value"
   ]
  },
  {
   "cell_type": "code",
   "execution_count": null,
   "metadata": {
    "execution": {
     "iopub.execute_input": "2023-04-17T14:59:17.429512Z",
     "iopub.status.busy": "2023-04-17T14:59:17.429064Z",
     "iopub.status.idle": "2023-04-17T14:59:17.435511Z",
     "shell.execute_reply": "2023-04-17T14:59:17.434508Z",
     "shell.execute_reply.started": "2023-04-17T14:59:17.429475Z"
    }
   },
   "outputs": [],
   "source": [
    "df['MinTemp']=df['MinTemp'].fillna(mean_value)#fill missing values in the 'MinTemp' column of the DataFrame df with the calculated mean_value"
   ]
  },
  {
   "cell_type": "code",
   "execution_count": null,
   "metadata": {
    "execution": {
     "iopub.execute_input": "2023-04-17T14:59:26.596280Z",
     "iopub.status.busy": "2023-04-17T14:59:26.595850Z",
     "iopub.status.idle": "2023-04-17T14:59:26.639550Z",
     "shell.execute_reply": "2023-04-17T14:59:26.638351Z",
     "shell.execute_reply.started": "2023-04-17T14:59:26.596239Z"
    }
   },
   "outputs": [],
   "source": [
    "df"
   ]
  },
  {
   "cell_type": "code",
   "execution_count": null,
   "metadata": {
    "execution": {
     "iopub.execute_input": "2023-04-17T15:10:40.985282Z",
     "iopub.status.busy": "2023-04-17T15:10:40.984871Z",
     "iopub.status.idle": "2023-04-17T15:10:40.994830Z",
     "shell.execute_reply": "2023-04-17T15:10:40.993356Z",
     "shell.execute_reply.started": "2023-04-17T15:10:40.985245Z"
    }
   },
   "outputs": [],
   "source": [
    "df.dtypes"
   ]
  },
  {
   "cell_type": "code",
   "execution_count": null,
   "metadata": {
    "execution": {
     "iopub.execute_input": "2023-04-17T15:12:13.711655Z",
     "iopub.status.busy": "2023-04-17T15:12:13.710838Z",
     "iopub.status.idle": "2023-04-17T15:12:13.720118Z",
     "shell.execute_reply": "2023-04-17T15:12:13.718698Z",
     "shell.execute_reply.started": "2023-04-17T15:12:13.711610Z"
    }
   },
   "outputs": [],
   "source": [
    "df[[\"Evaporation\"]]=df[[\"Evaporation\"]].astype(\"int64\")"
   ]
  },
  {
   "cell_type": "code",
   "execution_count": null,
   "metadata": {
    "execution": {
     "iopub.execute_input": "2023-04-17T15:12:32.348463Z",
     "iopub.status.busy": "2023-04-17T15:12:32.347520Z",
     "iopub.status.idle": "2023-04-17T15:12:32.380371Z",
     "shell.execute_reply": "2023-04-17T15:12:32.378876Z",
     "shell.execute_reply.started": "2023-04-17T15:12:32.348400Z"
    }
   },
   "outputs": [],
   "source": [
    "df.head()"
   ]
  },
  {
   "cell_type": "code",
   "execution_count": null,
   "metadata": {
    "execution": {
     "iopub.execute_input": "2023-04-17T15:13:15.324403Z",
     "iopub.status.busy": "2023-04-17T15:13:15.323266Z",
     "iopub.status.idle": "2023-04-17T15:13:15.329030Z",
     "shell.execute_reply": "2023-04-17T15:13:15.327996Z",
     "shell.execute_reply.started": "2023-04-17T15:13:15.324355Z"
    }
   },
   "outputs": [],
   "source": [
    "df3=df.copy()"
   ]
  },
  {
   "cell_type": "code",
   "execution_count": null,
   "metadata": {
    "execution": {
     "iopub.execute_input": "2023-04-17T15:14:25.059840Z",
     "iopub.status.busy": "2023-04-17T15:14:25.059345Z",
     "iopub.status.idle": "2023-04-17T15:14:25.106468Z",
     "shell.execute_reply": "2023-04-17T15:14:25.105165Z",
     "shell.execute_reply.started": "2023-04-17T15:14:25.059793Z"
    }
   },
   "outputs": [],
   "source": [
    "df3=pd.get_dummies(df3,columns=['Evaporation']) #1 hot encoding, converts categorical to numeric, as ml onli knoe numeric\n",
    "display(df3)"
   ]
  },
  {
   "cell_type": "code",
   "execution_count": null,
   "metadata": {},
   "outputs": [],
   "source": []
  },
  {
   "cell_type": "code",
   "execution_count": null,
   "metadata": {},
   "outputs": [],
   "source": []
  }
 ],
 "metadata": {
  "kernelspec": {
   "display_name": "Python 3 (ipykernel)",
   "language": "python",
   "name": "python3"
  },
  "language_info": {
   "codemirror_mode": {
    "name": "ipython",
    "version": 3
   },
   "file_extension": ".py",
   "mimetype": "text/x-python",
   "name": "python",
   "nbconvert_exporter": "python",
   "pygments_lexer": "ipython3",
   "version": "3.9.12"
  }
 },
 "nbformat": 4,
 "nbformat_minor": 4
}
