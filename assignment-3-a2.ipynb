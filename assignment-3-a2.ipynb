{
 "cells": [
  {
   "cell_type": "code",
   "execution_count": null,
   "id": "2cb08a28",
   "metadata": {},
   "outputs": [],
   "source": [
    "import pandas as pd\n",
    "import numpy as np"
   ]
  },
  {
   "cell_type": "code",
   "execution_count": null,
   "id": "40abfb58",
   "metadata": {},
   "outputs": [],
   "source": [
    "df=pd.read_csv(r\"C:\\Users\\aakas\\OneDrive\\Desktop\\dsbda pracs\\Mall_Customers.csv\")\n",
    "df"
   ]
  },
  {
   "cell_type": "code",
   "execution_count": null,
   "id": "7c314563",
   "metadata": {},
   "outputs": [],
   "source": [
    "df.mean() #df.mean(numeric_only=True)"
   ]
  },
  {
   "cell_type": "code",
   "execution_count": null,
   "id": "f5e97465",
   "metadata": {},
   "outputs": [],
   "source": [
    "df.median()"
   ]
  },
  {
   "cell_type": "code",
   "execution_count": null,
   "id": "e88ea74c",
   "metadata": {},
   "outputs": [],
   "source": [
    "df.min()"
   ]
  },
  {
   "cell_type": "code",
   "execution_count": null,
   "id": "22c783e3",
   "metadata": {},
   "outputs": [],
   "source": [
    "df.max()"
   ]
  },
  {
   "cell_type": "code",
   "execution_count": null,
   "id": "97ad1f5f",
   "metadata": {},
   "outputs": [],
   "source": [
    "df[\"Age\"].mean()"
   ]
  },
  {
   "cell_type": "code",
   "execution_count": null,
   "id": "ab7557cc",
   "metadata": {},
   "outputs": [],
   "source": [
    "df[\"Age\"].mode()"
   ]
  },
  {
   "cell_type": "code",
   "execution_count": null,
   "id": "06a7159f",
   "metadata": {},
   "outputs": [],
   "source": [
    "df[\"Age\"].median()"
   ]
  },
  {
   "cell_type": "code",
   "execution_count": null,
   "id": "6b7c00d7",
   "metadata": {},
   "outputs": [],
   "source": [
    "df[\"Age\"].std()"
   ]
  },
  {
   "cell_type": "code",
   "execution_count": null,
   "id": "2d7a4d95",
   "metadata": {},
   "outputs": [],
   "source": [
    "gk=df.groupby([\"Genre\"])"
   ]
  },
  {
   "cell_type": "code",
   "execution_count": null,
   "id": "47b1ae09",
   "metadata": {},
   "outputs": [],
   "source": [
    "gk.first()"
   ]
  },
  {
   "cell_type": "code",
   "execution_count": null,
   "id": "fad08615",
   "metadata": {},
   "outputs": [],
   "source": [
    "#csv_url='https://archive.ics.uci.edu/ml/machine-learning-databases/iris/iris.data' #if net there, no csv downloaded\n",
    "#df_iris = pd.read_csv(csv_url, header=None)\n",
    "#col_names = ['Sepa_Length', 'Sepal_Width','Petal_Length','Petal_Width','Species']\n",
    "#df_iris = pd.read_csv(csv_url, names=col_names)\n",
    "#if dataset downloaded, use-> \n",
    "df_iris = pd.read_csv(r\"C:\\Users\\aakas\\OneDrive\\Desktop\\dsbda pracs\\Iris.csv\", names=col_names)"
   ]
  },
  {
   "cell_type": "code",
   "execution_count": null,
   "id": "7d0a3856",
   "metadata": {},
   "outputs": [],
   "source": [
    "df_iris"
   ]
  },
  {
   "cell_type": "code",
   "execution_count": null,
   "id": "773f4551",
   "metadata": {},
   "outputs": [],
   "source": [
    "gk=df_iris.groupby('Species')"
   ]
  },
  {
   "cell_type": "code",
   "execution_count": null,
   "id": "1dd13861",
   "metadata": {},
   "outputs": [],
   "source": [
    "gk.first()"
   ]
  },
  {
   "cell_type": "code",
   "execution_count": null,
   "id": "9fbdbf7e",
   "metadata": {},
   "outputs": [],
   "source": [
    "gk.describe() #obtain descriptive statistics for each group"
   ]
  },
  {
   "cell_type": "code",
   "execution_count": null,
   "id": "ffb5167a",
   "metadata": {},
   "outputs": [],
   "source": [
    "iris_Set=(df_iris['Species'] == \"Iris-setosa\")\n",
    "print(df_iris[iris_Set].describe())"
   ]
  },
  {
   "cell_type": "code",
   "execution_count": null,
   "id": "4db6394b",
   "metadata": {},
   "outputs": [],
   "source": [
    "iris_Vir=(df_iris['Species'] == \"Iris-virginica\")\n",
    "print(df_iris[iris_Vir].describe())"
   ]
  },
  {
   "cell_type": "code",
   "execution_count": null,
   "id": "808d9099",
   "metadata": {},
   "outputs": [],
   "source": [
    "iris_Ver=(df_iris['Species'] == \"Iris-versicolor\")\n",
    "print(df_iris[iris_Ver].describe())"
   ]
  }
 ],
 "metadata": {
  "kernelspec": {
   "display_name": "Python 3 (ipykernel)",
   "language": "python",
   "name": "python3"
  },
  "language_info": {
   "codemirror_mode": {
    "name": "ipython",
    "version": 3
   },
   "file_extension": ".py",
   "mimetype": "text/x-python",
   "name": "python",
   "nbconvert_exporter": "python",
   "pygments_lexer": "ipython3",
   "version": "3.9.12"
  }
 },
 "nbformat": 4,
 "nbformat_minor": 5
}
