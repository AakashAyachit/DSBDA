{
 "cells": [
  {
   "cell_type": "code",
   "execution_count": null,
   "metadata": {
    "execution": {
     "iopub.execute_input": "2023-04-27T16:20:37.576117Z",
     "iopub.status.busy": "2023-04-27T16:20:37.575666Z",
     "iopub.status.idle": "2023-04-27T16:20:37.581606Z",
     "shell.execute_reply": "2023-04-27T16:20:37.580144Z",
     "shell.execute_reply.started": "2023-04-27T16:20:37.576067Z"
    }
   },
   "outputs": [],
   "source": [
    "import numpy as np \n",
    "import pandas as pd\n",
    "import matplotlib.pyplot as plt #for visualization"
   ]
  },
  {
   "cell_type": "code",
   "execution_count": null,
   "metadata": {
    "execution": {
     "iopub.execute_input": "2023-04-27T16:25:26.566235Z",
     "iopub.status.busy": "2023-04-27T16:25:26.565742Z",
     "iopub.status.idle": "2023-04-27T16:25:26.586761Z",
     "shell.execute_reply": "2023-04-27T16:25:26.585713Z",
     "shell.execute_reply.started": "2023-04-27T16:25:26.566192Z"
    }
   },
   "outputs": [],
   "source": [
    "df=pd.read_csv(r\"C:\\Users\\aakas\\OneDrive\\Desktop\\dsbda pracs\\StudentPerformance.csv\")"
   ]
  },
  {
   "cell_type": "code",
   "execution_count": null,
   "metadata": {
    "execution": {
     "iopub.execute_input": "2023-04-27T16:25:40.890162Z",
     "iopub.status.busy": "2023-04-27T16:25:40.889586Z",
     "iopub.status.idle": "2023-04-27T16:25:40.916198Z",
     "shell.execute_reply": "2023-04-27T16:25:40.915082Z",
     "shell.execute_reply.started": "2023-04-27T16:25:40.890113Z"
    }
   },
   "outputs": [],
   "source": [
    "print(df)"
   ]
  },
  {
   "cell_type": "code",
   "execution_count": null,
   "metadata": {
    "execution": {
     "iopub.execute_input": "2023-04-27T16:26:28.220818Z",
     "iopub.status.busy": "2023-04-27T16:26:28.220410Z",
     "iopub.status.idle": "2023-04-27T16:26:28.246987Z",
     "shell.execute_reply": "2023-04-27T16:26:28.245508Z",
     "shell.execute_reply.started": "2023-04-27T16:26:28.220783Z"
    }
   },
   "outputs": [],
   "source": [
    "df.isnull()"
   ]
  },
  {
   "cell_type": "code",
   "execution_count": null,
   "metadata": {
    "execution": {
     "iopub.execute_input": "2023-04-27T16:27:16.535484Z",
     "iopub.status.busy": "2023-04-27T16:27:16.535039Z",
     "iopub.status.idle": "2023-04-27T16:27:16.546166Z",
     "shell.execute_reply": "2023-04-27T16:27:16.544841Z",
     "shell.execute_reply.started": "2023-04-27T16:27:16.535443Z"
    }
   },
   "outputs": [],
   "source": [
    "df.isnull().sum()"
   ]
  },
  {
   "cell_type": "code",
   "execution_count": null,
   "metadata": {
    "execution": {
     "iopub.execute_input": "2023-04-27T16:27:38.539843Z",
     "iopub.status.busy": "2023-04-27T16:27:38.539078Z",
     "iopub.status.idle": "2023-04-27T16:27:38.560284Z",
     "shell.execute_reply": "2023-04-27T16:27:38.558810Z",
     "shell.execute_reply.started": "2023-04-27T16:27:38.539798Z"
    }
   },
   "outputs": [],
   "source": [
    "df.notnull()"
   ]
  },
  {
   "cell_type": "code",
   "execution_count": null,
   "metadata": {
    "execution": {
     "iopub.execute_input": "2023-04-27T16:28:42.172761Z",
     "iopub.status.busy": "2023-04-27T16:28:42.171375Z",
     "iopub.status.idle": "2023-04-27T16:28:42.179750Z",
     "shell.execute_reply": "2023-04-27T16:28:42.178185Z",
     "shell.execute_reply.started": "2023-04-27T16:28:42.172698Z"
    }
   },
   "outputs": [],
   "source": [
    "series1=pd.notnull(df[\"Maths_Score\"]) "
   ]
  },
  {
   "cell_type": "code",
   "execution_count": null,
   "metadata": {
    "execution": {
     "iopub.execute_input": "2023-04-27T16:28:57.314489Z",
     "iopub.status.busy": "2023-04-27T16:28:57.313128Z",
     "iopub.status.idle": "2023-04-27T16:28:57.346279Z",
     "shell.execute_reply": "2023-04-27T16:28:57.345055Z",
     "shell.execute_reply.started": "2023-04-27T16:28:57.314426Z"
    }
   },
   "outputs": [],
   "source": [
    "df[series1]"
   ]
  },
  {
   "cell_type": "code",
   "execution_count": null,
   "metadata": {
    "execution": {
     "iopub.execute_input": "2023-04-27T16:29:22.515524Z",
     "iopub.status.busy": "2023-04-27T16:29:22.515091Z",
     "iopub.status.idle": "2023-04-27T16:29:22.542717Z",
     "shell.execute_reply": "2023-04-27T16:29:22.541235Z",
     "shell.execute_reply.started": "2023-04-27T16:29:22.515486Z"
    }
   },
   "outputs": [],
   "source": [
    "ndf=df\n",
    "ndf.fillna(0)"
   ]
  },
  {
   "cell_type": "code",
   "execution_count": null,
   "metadata": {
    "execution": {
     "iopub.execute_input": "2023-04-27T16:29:43.050490Z",
     "iopub.status.busy": "2023-04-27T16:29:43.050076Z",
     "iopub.status.idle": "2023-04-27T16:29:43.057578Z",
     "shell.execute_reply": "2023-04-27T16:29:43.056202Z",
     "shell.execute_reply.started": "2023-04-27T16:29:43.050455Z"
    }
   },
   "outputs": [],
   "source": [
    "df['Maths_Score']=df['Maths_Score'].fillna(df['Maths_Score'].mean())"
   ]
  },
  {
   "cell_type": "code",
   "execution_count": null,
   "metadata": {
    "execution": {
     "iopub.execute_input": "2023-04-27T16:29:55.340387Z",
     "iopub.status.busy": "2023-04-27T16:29:55.339951Z",
     "iopub.status.idle": "2023-04-27T16:29:55.367724Z",
     "shell.execute_reply": "2023-04-27T16:29:55.366454Z",
     "shell.execute_reply.started": "2023-04-27T16:29:55.340351Z"
    }
   },
   "outputs": [],
   "source": [
    "df"
   ]
  },
  {
   "cell_type": "code",
   "execution_count": null,
   "metadata": {
    "execution": {
     "iopub.execute_input": "2023-04-27T16:30:17.473708Z",
     "iopub.status.busy": "2023-04-27T16:30:17.473277Z",
     "iopub.status.idle": "2023-04-27T16:30:17.501571Z",
     "shell.execute_reply": "2023-04-27T16:30:17.500503Z",
     "shell.execute_reply.started": "2023-04-27T16:30:17.473668Z"
    }
   },
   "outputs": [],
   "source": [
    "ndf.replace(to_replace=np.nan,value=-99)"
   ]
  },
  {
   "cell_type": "code",
   "execution_count": null,
   "metadata": {
    "execution": {
     "iopub.execute_input": "2023-04-27T16:30:37.079903Z",
     "iopub.status.busy": "2023-04-27T16:30:37.079479Z",
     "iopub.status.idle": "2023-04-27T16:30:37.110071Z",
     "shell.execute_reply": "2023-04-27T16:30:37.108692Z",
     "shell.execute_reply.started": "2023-04-27T16:30:37.079866Z"
    }
   },
   "outputs": [],
   "source": [
    "ndf.dropna()"
   ]
  },
  {
   "cell_type": "code",
   "execution_count": null,
   "metadata": {
    "execution": {
     "iopub.execute_input": "2023-04-27T16:30:59.821983Z",
     "iopub.status.busy": "2023-04-27T16:30:59.821478Z",
     "iopub.status.idle": "2023-04-27T16:31:00.166661Z",
     "shell.execute_reply": "2023-04-27T16:31:00.165590Z",
     "shell.execute_reply.started": "2023-04-27T16:30:59.821914Z"
    }
   },
   "outputs": [],
   "source": [
    "col=['Maths_Score','Reading_Score','Writing_Score','Placement_Score']\n",
    "df.boxplot(col)"
   ]
  },
  {
   "cell_type": "code",
   "execution_count": null,
   "metadata": {
    "execution": {
     "iopub.execute_input": "2023-04-27T16:33:15.853117Z",
     "iopub.status.busy": "2023-04-27T16:33:15.852645Z",
     "iopub.status.idle": "2023-04-27T16:33:16.144510Z",
     "shell.execute_reply": "2023-04-27T16:33:16.143123Z",
     "shell.execute_reply.started": "2023-04-27T16:33:15.853074Z"
    }
   },
   "outputs": [],
   "source": [
    "fig,ax=plt.subplots(figsize=(18,10))\n",
    "ax.scatter(df['Placement_Score'],df['Placement offer count'])\n",
    "plt.show()"
   ]
  },
  {
   "cell_type": "code",
   "execution_count": null,
   "metadata": {
    "execution": {
     "iopub.execute_input": "2023-04-27T16:34:38.601064Z",
     "iopub.status.busy": "2023-04-27T16:34:38.599533Z",
     "iopub.status.idle": "2023-04-27T16:34:38.831209Z",
     "shell.execute_reply": "2023-04-27T16:34:38.829788Z",
     "shell.execute_reply.started": "2023-04-27T16:34:38.601010Z"
    }
   },
   "outputs": [],
   "source": [
    "new_df = df\n",
    "col = ['Maths_Score']\n",
    "new_df.boxplot(col) "
   ]
  }
 ],
 "metadata": {
  "kernelspec": {
   "display_name": "Python 3 (ipykernel)",
   "language": "python",
   "name": "python3"
  },
  "language_info": {
   "codemirror_mode": {
    "name": "ipython",
    "version": 3
   },
   "file_extension": ".py",
   "mimetype": "text/x-python",
   "name": "python",
   "nbconvert_exporter": "python",
   "pygments_lexer": "ipython3",
   "version": "3.9.12"
  }
 },
 "nbformat": 4,
 "nbformat_minor": 4
}
