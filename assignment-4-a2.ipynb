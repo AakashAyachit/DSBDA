{
 "cells": [
  {
   "cell_type": "code",
   "execution_count": null,
   "metadata": {
    "execution": {
     "iopub.execute_input": "2023-04-28T14:38:12.624954Z",
     "iopub.status.busy": "2023-04-28T14:38:12.623875Z",
     "iopub.status.idle": "2023-04-28T14:38:12.637443Z",
     "shell.execute_reply": "2023-04-28T14:38:12.635693Z",
     "shell.execute_reply.started": "2023-04-28T14:38:12.624900Z"
    }
   },
   "outputs": [],
   "source": [
    "import numpy as np\n",
    "import pandas as pd\n",
    "import matplotlib.pyplot as plt\n",
    "from sklearn.datasets import load_boston\n",
    "boston = load_boston()"
   ]
  },
  {
   "cell_type": "code",
   "execution_count": null,
   "metadata": {
    "execution": {
     "iopub.execute_input": "2023-04-28T14:39:08.080475Z",
     "iopub.status.busy": "2023-04-28T14:39:08.079969Z",
     "iopub.status.idle": "2023-04-28T14:39:08.088778Z",
     "shell.execute_reply": "2023-04-28T14:39:08.087444Z",
     "shell.execute_reply.started": "2023-04-28T14:39:08.080437Z"
    }
   },
   "outputs": [],
   "source": [
    "data=pd.DataFrame(boston.data)"
   ]
  },
  {
   "cell_type": "code",
   "execution_count": null,
   "metadata": {
    "execution": {
     "iopub.execute_input": "2023-04-28T14:39:27.530646Z",
     "iopub.status.busy": "2023-04-28T14:39:27.530106Z",
     "iopub.status.idle": "2023-04-28T14:39:27.541072Z",
     "shell.execute_reply": "2023-04-28T14:39:27.539465Z",
     "shell.execute_reply.started": "2023-04-28T14:39:27.530602Z"
    }
   },
   "outputs": [],
   "source": [
    "data.shape #no. of rows cols"
   ]
  },
  {
   "cell_type": "code",
   "execution_count": null,
   "metadata": {
    "execution": {
     "iopub.execute_input": "2023-04-28T14:39:52.594206Z",
     "iopub.status.busy": "2023-04-28T14:39:52.592827Z",
     "iopub.status.idle": "2023-04-28T14:39:52.641689Z",
     "shell.execute_reply": "2023-04-28T14:39:52.640524Z",
     "shell.execute_reply.started": "2023-04-28T14:39:52.594138Z"
    }
   },
   "outputs": [],
   "source": [
    "data.columns = boston.feature_names\n",
    "data.head()"
   ]
  },
  {
   "cell_type": "code",
   "execution_count": null,
   "metadata": {
    "execution": {
     "iopub.execute_input": "2023-04-28T14:40:24.279438Z",
     "iopub.status.busy": "2023-04-28T14:40:24.278110Z",
     "iopub.status.idle": "2023-04-28T14:40:24.290484Z",
     "shell.execute_reply": "2023-04-28T14:40:24.288892Z",
     "shell.execute_reply.started": "2023-04-28T14:40:24.279386Z"
    }
   },
   "outputs": [],
   "source": [
    "data['PRICE'] = boston.target #adds a new column named 'PRICE' and assigns the values from the 'target' attribute"
   ]
  },
  {
   "cell_type": "code",
   "execution_count": null,
   "metadata": {
    "execution": {
     "iopub.execute_input": "2023-04-28T14:41:14.697926Z",
     "iopub.status.busy": "2023-04-28T14:41:14.697222Z",
     "iopub.status.idle": "2023-04-28T14:41:14.713188Z",
     "shell.execute_reply": "2023-04-28T14:41:14.711100Z",
     "shell.execute_reply.started": "2023-04-28T14:41:14.697874Z"
    }
   },
   "outputs": [],
   "source": [
    "data.isnull().sum()"
   ]
  },
  {
   "cell_type": "code",
   "execution_count": null,
   "metadata": {
    "execution": {
     "iopub.execute_input": "2023-04-28T14:41:33.083403Z",
     "iopub.status.busy": "2023-04-28T14:41:33.082803Z",
     "iopub.status.idle": "2023-04-28T14:41:33.094111Z",
     "shell.execute_reply": "2023-04-28T14:41:33.092812Z",
     "shell.execute_reply.started": "2023-04-28T14:41:33.083326Z"
    }
   },
   "outputs": [],
   "source": [
    "x = data.drop(['PRICE'], axis = 1)\n",
    "y = data['PRICE']"
   ]
  },
  {
   "cell_type": "code",
   "execution_count": null,
   "metadata": {
    "execution": {
     "iopub.execute_input": "2023-04-28T14:41:48.700868Z",
     "iopub.status.busy": "2023-04-28T14:41:48.700318Z",
     "iopub.status.idle": "2023-04-28T14:41:48.781497Z",
     "shell.execute_reply": "2023-04-28T14:41:48.779784Z",
     "shell.execute_reply.started": "2023-04-28T14:41:48.700821Z"
    }
   },
   "outputs": [],
   "source": [
    "from sklearn.model_selection import train_test_split  #split data into training and testing data\n",
    "xtrain, xtest, ytrain, ytest =train_test_split(x, y, test_size =0.2,random_state = 0) #test size-> 20% of data split "
   ]
  },
  {
   "cell_type": "code",
   "execution_count": null,
   "metadata": {
    "execution": {
     "iopub.execute_input": "2023-04-28T14:42:44.957185Z",
     "iopub.status.busy": "2023-04-28T14:42:44.956681Z",
     "iopub.status.idle": "2023-04-28T14:42:45.078583Z",
     "shell.execute_reply": "2023-04-28T14:42:45.077112Z",
     "shell.execute_reply.started": "2023-04-28T14:42:44.957140Z"
    }
   },
   "outputs": [],
   "source": [
    "import sklearn\n",
    "from sklearn.linear_model import LinearRegression\n",
    "lm = LinearRegression()\n",
    "model=lm.fit(xtrain, ytrain)   #fits the linear regression model to the training data,to learn the relationship between the features and the target variable"
   ]
  },
  {
   "cell_type": "code",
   "execution_count": null,
   "metadata": {
    "execution": {
     "iopub.execute_input": "2023-04-28T14:43:00.750627Z",
     "iopub.status.busy": "2023-04-28T14:43:00.750069Z",
     "iopub.status.idle": "2023-04-28T14:43:00.758758Z",
     "shell.execute_reply": "2023-04-28T14:43:00.757451Z",
     "shell.execute_reply.started": "2023-04-28T14:43:00.750580Z"
    }
   },
   "outputs": [],
   "source": [
    "lm.intercept_ #value of the dependent variable (y) when all the independent variables (x) are set to zero."
   ]
  },
  {
   "cell_type": "code",
   "execution_count": null,
   "metadata": {
    "execution": {
     "iopub.execute_input": "2023-04-28T14:43:28.010949Z",
     "iopub.status.busy": "2023-04-28T14:43:28.010459Z",
     "iopub.status.idle": "2023-04-28T14:43:28.020530Z",
     "shell.execute_reply": "2023-04-28T14:43:28.018871Z",
     "shell.execute_reply.started": "2023-04-28T14:43:28.010910Z"
    }
   },
   "outputs": [],
   "source": [
    "lm.coef_ #slope of the linear regression model. repr rel bw x and y"
   ]
  },
  {
   "cell_type": "code",
   "execution_count": null,
   "metadata": {
    "execution": {
     "iopub.execute_input": "2023-04-28T14:43:42.768539Z",
     "iopub.status.busy": "2023-04-28T14:43:42.768017Z",
     "iopub.status.idle": "2023-04-28T14:43:42.781705Z",
     "shell.execute_reply": "2023-04-28T14:43:42.779979Z",
     "shell.execute_reply.started": "2023-04-28T14:43:42.768497Z"
    }
   },
   "outputs": [],
   "source": [
    "ytrain_pred = lm.predict(xtrain) #predict values of xtrain\n",
    "ytest_pred = lm.predict(xtest)   # \"      \"         xtest    "
   ]
  },
  {
   "cell_type": "code",
   "execution_count": null,
   "metadata": {
    "execution": {
     "iopub.execute_input": "2023-04-28T14:43:57.207342Z",
     "iopub.status.busy": "2023-04-28T14:43:57.206123Z",
     "iopub.status.idle": "2023-04-28T14:43:57.213172Z",
     "shell.execute_reply": "2023-04-28T14:43:57.212136Z",
     "shell.execute_reply.started": "2023-04-28T14:43:57.207289Z"
    }
   },
   "outputs": [],
   "source": [
    "df=pd.DataFrame(ytrain_pred,ytrain)\n",
    "df=pd.DataFrame(ytest_pred,ytest)"
   ]
  },
  {
   "cell_type": "code",
   "execution_count": null,
   "metadata": {
    "execution": {
     "iopub.execute_input": "2023-04-28T14:44:16.725515Z",
     "iopub.status.busy": "2023-04-28T14:44:16.725082Z",
     "iopub.status.idle": "2023-04-28T14:44:16.735158Z",
     "shell.execute_reply": "2023-04-28T14:44:16.733456Z",
     "shell.execute_reply.started": "2023-04-28T14:44:16.725478Z"
    }
   },
   "outputs": [],
   "source": [
    "from sklearn.metrics import mean_squared_error, r2_score\n",
    "mse = mean_squared_error(ytest, ytest_pred) # MSE between the actual test values ytest and the predicted test values\n",
    "print(mse)\n",
    "mse = mean_squared_error(ytrain_pred,ytrain) # MSE between the predicted training values ytrain_pred and the actual training values ytrain.\n",
    "print(mse)"
   ]
  },
  {
   "cell_type": "code",
   "execution_count": null,
   "metadata": {
    "execution": {
     "iopub.execute_input": "2023-04-28T14:45:06.407529Z",
     "iopub.status.busy": "2023-04-28T14:45:06.407008Z",
     "iopub.status.idle": "2023-04-28T14:45:06.692068Z",
     "shell.execute_reply": "2023-04-28T14:45:06.690738Z",
     "shell.execute_reply.started": "2023-04-28T14:45:06.407485Z"
    }
   },
   "outputs": [],
   "source": [
    "plt.scatter(ytrain ,ytrain_pred,c='blue',marker='o',label='Training data')\n",
    "plt.scatter(ytest,ytest_pred ,c='lightgreen',marker='s',label='Test data')\n",
    "plt.xlabel('True values')\n",
    "plt.ylabel('Predicted')\n",
    "plt.title(\"True value vs Predicted value\")\n",
    "plt.legend(loc= 'upper left')\n",
    "plt.plot()\n",
    "plt.show()"
   ]
  }
 ],
 "metadata": {
  "kernelspec": {
   "display_name": "Python 3 (ipykernel)",
   "language": "python",
   "name": "python3"
  },
  "language_info": {
   "codemirror_mode": {
    "name": "ipython",
    "version": 3
   },
   "file_extension": ".py",
   "mimetype": "text/x-python",
   "name": "python",
   "nbconvert_exporter": "python",
   "pygments_lexer": "ipython3",
   "version": "3.9.12"
  }
 },
 "nbformat": 4,
 "nbformat_minor": 4
}
