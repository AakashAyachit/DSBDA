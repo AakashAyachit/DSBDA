{
 "cells": [
  {
   "cell_type": "code",
   "execution_count": null,
   "id": "a53424ae",
   "metadata": {},
   "outputs": [],
   "source": [
    "import pandas as pd\n",
    "import seaborn as sns\n",
    "from matplotlib import pyplot as plt\n",
    "import numpy as np"
   ]
  },
  {
   "cell_type": "code",
   "execution_count": null,
   "id": "43532580",
   "metadata": {},
   "outputs": [],
   "source": [
    "df1=pd.read_csv(r\"C:\\Users\\aakas\\OneDrive\\Desktop\\dsbda pracs\\Iris.csv\")"
   ]
  },
  {
   "cell_type": "code",
   "execution_count": null,
   "id": "16c6a0e7",
   "metadata": {},
   "outputs": [],
   "source": [
    "df1.head()"
   ]
  },
  {
   "cell_type": "code",
   "execution_count": null,
   "id": "e3f91561",
   "metadata": {},
   "outputs": [],
   "source": [
    "sns.histplot(df1.SepalLengthCm) #histogram using sepallength column"
   ]
  },
  {
   "cell_type": "code",
   "execution_count": null,
   "id": "73fd9131",
   "metadata": {},
   "outputs": [],
   "source": [
    "sns.histplot(df1.SepalWidthCm)"
   ]
  },
  {
   "cell_type": "code",
   "execution_count": null,
   "id": "aa0b0321",
   "metadata": {},
   "outputs": [],
   "source": [
    "sns.histplot(df1.PetalLengthCm)"
   ]
  },
  {
   "cell_type": "code",
   "execution_count": null,
   "id": "bb86ff49",
   "metadata": {},
   "outputs": [],
   "source": [
    "sns.catplot(y='SepalLengthCm',data=df1,kind=\"box\")\n",
    "#sns.boxplot(y='SepalLengthCm', data=df1) -> same output"
   ]
  },
  {
   "cell_type": "code",
   "execution_count": null,
   "id": "a2ca1f6b",
   "metadata": {},
   "outputs": [],
   "source": [
    "sns.catplot(y='SepalWidthCm',data=df1,kind=\"box\") #box plot of the values in the \"SepalLengthCm\" column"
   ]
  },
  {
   "cell_type": "code",
   "execution_count": null,
   "id": "5616a6a5",
   "metadata": {},
   "outputs": [],
   "source": [
    "sns.catplot(y='PetalLengthCm',data=df1,kind=\"box\")"
   ]
  },
  {
   "cell_type": "code",
   "execution_count": null,
   "id": "1b007d63",
   "metadata": {},
   "outputs": [],
   "source": [
    "sns.catplot(y='PetalWidthCm',data=df1,kind=\"box\")"
   ]
  },
  {
   "cell_type": "code",
   "execution_count": null,
   "id": "cbd82436",
   "metadata": {},
   "outputs": [],
   "source": [
    "#From the above we conclude that sepal width cm has ouliers and need to be removed.\n",
    "#alculates the first quartile (q1), third quartile (q3), interquartile range (iqr), upper bound (upper_bound), and lower bound \n",
    "def outliers(df,feature): #Create a list of outlier indexes.\n",
    "    q1=df[feature].quantile(0.25) \n",
    "    q3=df[feature].quantile(0.75)\n",
    "    iqr=q3-q1\n",
    "    upper_bound=q3+1.5*iqr\n",
    "    lower_bound=q1-1.5*iqr\n",
    "    ls=df.index[(df[feature]<lower_bound)|(df[feature]>upper_bound)]  #returns a list of outlier indexes where the feature values are either less than the lower bound or greater than the upper bound.\n",
    "    return ls\n",
    "def remove(df,ls):  #sorts and removes the rows with the outlier indexes \n",
    "    ls=sorted(set(ls))\n",
    "    df=df.drop(ls)\n",
    "    return df\n",
    "#Form list of oulier indexes\n",
    "index=[]\n",
    "for feature in['SepalWidthCm']:\n",
    "    index.extend(outliers(df1,feature)) #outlier indexes are added to the index list using the extend.\n",
    "#print(index)\n",
    "df2=remove(df1,index) #create df2, ie without outliers\n",
    "sns.catplot(y='SepalWidthCm',data=df1,kind=\"box\") #with outliers\n",
    "sns.catplot(y='SepalWidthCm',data=df2,kind=\"box\")#without"
   ]
  },
  {
   "cell_type": "code",
   "execution_count": null,
   "id": "fabfdd1d",
   "metadata": {},
   "outputs": [],
   "source": []
  }
 ],
 "metadata": {
  "kernelspec": {
   "display_name": "Python 3 (ipykernel)",
   "language": "python",
   "name": "python3"
  },
  "language_info": {
   "codemirror_mode": {
    "name": "ipython",
    "version": 3
   },
   "file_extension": ".py",
   "mimetype": "text/x-python",
   "name": "python",
   "nbconvert_exporter": "python",
   "pygments_lexer": "ipython3",
   "version": "3.9.12"
  }
 },
 "nbformat": 4,
 "nbformat_minor": 5
}
